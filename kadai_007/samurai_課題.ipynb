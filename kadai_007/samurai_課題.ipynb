{
  "nbformat": 4,
  "nbformat_minor": 0,
  "metadata": {
    "colab": {
      "provenance": []
    },
    "kernelspec": {
      "name": "python3",
      "display_name": "Python 3"
    },
    "language_info": {
      "name": "python"
    }
  },
  "cells": [
    {
      "cell_type": "code",
      "source": [
        "array=[\n",
        "    \"月曜日は晴れです\",\n",
        "    \"火曜日は雨です\",\n",
        "    \"水曜日は晴れです\",\n",
        "    \"木曜日は晴れです\",\n",
        "    \"金曜日は曇りです\",\n",
        "    \"土曜日は曇りのち雨です\",\n",
        "    \"日曜日は雷雨です\"\n",
        "]\n",
        "print(array[2])\n",
        "\n",
        "dictionary={\n",
        "    \"mon\":\"晴れ\",\n",
        "    \"tue\":\"雨\",\n",
        "    \"wed\":\"晴れ\",\n",
        "    \"thu\":\"晴れ\",\n",
        "    \"fri\":\"曇り\",\n",
        "    \"sat\":\"雲のち雨\",\n",
        "    \"sun\":\"雷雨\"\n",
        "}\n",
        "print(\"水曜日は\"+dictionary[\"wed\"]+\"です\")"
      ],
      "metadata": {
        "colab": {
          "base_uri": "https://localhost:8080/"
        },
        "id": "PZIxIprcpC37",
        "outputId": "98f8f248-5617-4f60-d5a5-c189a36aae34"
      },
      "execution_count": 6,
      "outputs": [
        {
          "output_type": "stream",
          "name": "stdout",
          "text": [
            "水曜日は晴れです\n",
            "水曜日は晴れです\n"
          ]
        }
      ]
    }
  ]
}