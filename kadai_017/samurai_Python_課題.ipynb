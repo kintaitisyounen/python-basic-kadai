{
  "nbformat": 4,
  "nbformat_minor": 0,
  "metadata": {
    "colab": {
      "provenance": []
    },
    "kernelspec": {
      "name": "python3",
      "display_name": "Python 3"
    },
    "language_info": {
      "name": "python"
    }
  },
  "cells": [
    {
      "cell_type": "code",
      "source": [
        "ages_dict = {\"太郎\": 33, \"テル\": 21, \"花子\": 15}\n",
        "\n",
        "class Human:\n",
        "    def __init__(self, name, age):\n",
        "        self.name = name\n",
        "        self.age = age\n",
        "\n",
        "    def check_adult(self):\n",
        "        if self.age < 20:\n",
        "            print(f\"{self.name}は大人じゃない\")\n",
        "        else:\n",
        "            print(f\"{self.name}は大人だ\")\n",
        "\n",
        "humans_list = []\n",
        "\n",
        "for name, age in ages_dict.items():\n",
        "    human = Human(name, age)\n",
        "    humans_list.append(human)\n",
        "\n",
        "for human in humans_list:\n",
        "    human.check_adult()"
      ],
      "metadata": {
        "colab": {
          "base_uri": "https://localhost:8080/"
        },
        "id": "rZc1f8Z2Gusf",
        "outputId": "fb95daa6-ca59-4933-ae03-920cf56ea8fb"
      },
      "execution_count": 20,
      "outputs": [
        {
          "output_type": "stream",
          "name": "stdout",
          "text": [
            "太郎は大人だ\n",
            "テルは大人だ\n",
            "花子は大人じゃない\n"
          ]
        }
      ]
    }
  ]
}