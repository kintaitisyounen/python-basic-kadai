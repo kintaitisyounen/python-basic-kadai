{
  "nbformat": 4,
  "nbformat_minor": 0,
  "metadata": {
    "colab": {
      "provenance": []
    },
    "kernelspec": {
      "name": "python3",
      "display_name": "Python 3"
    },
    "language_info": {
      "name": "python"
    }
  },
  "cells": [
    {
      "cell_type": "code",
      "source": [],
      "metadata": {
        "id": "hCATz1m2nCsC"
      },
      "execution_count": null,
      "outputs": []
    },
    {
      "cell_type": "code",
      "source": [
        "def calculate_total(price,tax):\n",
        "    total = price + (price * tax / 100)\n",
        "    return total\n",
        "\n",
        "result = calculate_total(110, 10)\n",
        "print(f\"{result}円\")"
      ],
      "metadata": {
        "id": "R3Vw8Ln8aoB-",
        "colab": {
          "base_uri": "https://localhost:8080/"
        },
        "outputId": "b8748b98-0a7d-4a09-bc69-8300cee0a3be"
      },
      "execution_count": 18,
      "outputs": [
        {
          "output_type": "stream",
          "name": "stdout",
          "text": [
            "121.0円\n"
          ]
        }
      ]
    }
  ]
}