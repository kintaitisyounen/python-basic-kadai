{
  "nbformat": 4,
  "nbformat_minor": 0,
  "metadata": {
    "colab": {
      "provenance": []
    },
    "kernelspec": {
      "name": "python3",
      "display_name": "Python 3"
    },
    "language_info": {
      "name": "python"
    }
  },
  "cells": [
    {
      "cell_type": "code",
      "source": [],
      "metadata": {
        "id": "hCATz1m2nCsC"
      },
      "execution_count": null,
      "outputs": []
    },
    {
      "cell_type": "code",
      "source": [
        "def calculate_total(price,tax):\n",
        "    total = price + (price * tax / 100)\n",
        "    print(f\"{total}円\")\n",
        "\n",
        "calculate_total(110, 10)\n",
        ""
      ],
      "metadata": {
        "id": "R3Vw8Ln8aoB-",
        "colab": {
          "base_uri": "https://localhost:8080/"
        },
        "outputId": "e1033125-8a26-4d52-caa5-1248f368c5d3"
      },
      "execution_count": 16,
      "outputs": [
        {
          "output_type": "stream",
          "name": "stdout",
          "text": [
            "121.0円\n"
          ]
        }
      ]
    }
  ]
}