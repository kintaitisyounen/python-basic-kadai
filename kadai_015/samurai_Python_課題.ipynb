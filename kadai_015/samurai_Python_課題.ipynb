{
  "nbformat": 4,
  "nbformat_minor": 0,
  "metadata": {
    "colab": {
      "provenance": []
    },
    "kernelspec": {
      "name": "python3",
      "display_name": "Python 3"
    },
    "language_info": {
      "name": "python"
    }
  },
  "cells": [
    {
      "cell_type": "code",
      "source": [
        "class Human:\n",
        "    def __init__(self, name, age):\n",
        "      self.name = name\n",
        "      self.age = age\n",
        "\n",
        "    def set_name(self, name):\n",
        "      self.name = name\n",
        "    def set_age(self, age):\n",
        "      self.age = age\n",
        "\n",
        "    def printinfo(self):\n",
        "      print(\"名前:\", self.name)\n",
        "      print(\"年齢:\", self.age)\n",
        "\n",
        "human = Human(\"太郎\", 22)\n",
        "\n",
        "human.printinfo()"
      ],
      "metadata": {
        "colab": {
          "base_uri": "https://localhost:8080/"
        },
        "outputId": "bc1c3d6c-6c14-478d-dd89-dbeb4c64ef3c",
        "id": "8uN7aiFl1jer"
      },
      "execution_count": 12,
      "outputs": [
        {
          "output_type": "stream",
          "name": "stdout",
          "text": [
            "名前: 太郎\n",
            "年齢: 22\n"
          ]
        }
      ]
    }
  ]
}